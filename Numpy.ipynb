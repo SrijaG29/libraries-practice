{
  "cells": [
    {
      "cell_type": "markdown",
      "metadata": {
        "id": "view-in-github",
        "colab_type": "text"
      },
      "source": [
        "<a href=\"https://colab.research.google.com/github/SrijaG29/libraries-practice/blob/main/Numpy.ipynb\" target=\"_parent\"><img src=\"https://colab.research.google.com/assets/colab-badge.svg\" alt=\"Open In Colab\"/></a>"
      ]
    },
    {
      "cell_type": "code",
      "source": [
        "#importing numpy\n",
        "import numpy as np"
      ],
      "metadata": {
        "id": "laxd5RtOgxrB"
      },
      "execution_count": 2,
      "outputs": []
    },
    {
      "cell_type": "code",
      "source": [
        "#array creation using numpy\n",
        "a = np.array([[1,2,3,4,5,6],[7,8,9,10,11,12]])\n",
        "b = np.array([[[1,2,3],[4,5,6]],[[7,8,9],[10,11,12]]])\n",
        "# print(a)\n",
        "\n",
        "# get specific element (r,c) 1D array\n",
        "# a[1,0]\n",
        "\n",
        "# get sepecific row\n",
        "# a[0,:]\n",
        "\n",
        "# get sepecific column\n",
        "# a[:,0]\n",
        "\n",
        "# a[0][1]\n",
        "\n",
        "# get specific element 2D array\n",
        "# b[1][0][0]\n",
        "\n",
        "# np.identity(3)\n",
        "\n",
        "arr = np.array([[1,2,3,4,5]])\n",
        "c = np.repeat(arr,3,axis=0)\n",
        "print(c)\n"
      ],
      "metadata": {
        "id": "DgkaKOpV3YIa",
        "outputId": "3f43539e-420f-4acc-c3ac-c9ef58f9bda9",
        "colab": {
          "base_uri": "https://localhost:8080/"
        }
      },
      "execution_count": 18,
      "outputs": [
        {
          "output_type": "stream",
          "name": "stdout",
          "text": [
            "[[1 2 3 4 5]\n",
            " [1 2 3 4 5]\n",
            " [1 2 3 4 5]]\n"
          ]
        }
      ]
    },
    {
      "cell_type": "code",
      "source": [
        "f = np.ones((5,5))\n",
        "# print(f)\n",
        "\n",
        "q = np.zeros((3,3))\n",
        "q[1,1] = 9\n",
        "# print(q)\n",
        "\n",
        "f[1:4,1:4] = q\n",
        "\n",
        "print(f)"
      ],
      "metadata": {
        "id": "V5u6_y6M4Q-u",
        "outputId": "e3725b70-e2fb-48b5-88b7-a635c5f15983",
        "colab": {
          "base_uri": "https://localhost:8080/"
        }
      },
      "execution_count": 26,
      "outputs": [
        {
          "output_type": "stream",
          "name": "stdout",
          "text": [
            "[[1. 1. 1. 1. 1.]\n",
            " [1. 0. 0. 0. 1.]\n",
            " [1. 0. 9. 0. 1.]\n",
            " [1. 0. 0. 0. 1.]\n",
            " [1. 1. 1. 1. 1.]]\n"
          ]
        }
      ]
    },
    {
      "cell_type": "code",
      "source": [
        "a = np.array([1,2,3],dtype = 'int32')\n",
        "a / 2"
      ],
      "metadata": {
        "id": "W_N9A4lrfTc6",
        "outputId": "4be00115-9d3b-4141-f36c-5374beba4daa",
        "colab": {
          "base_uri": "https://localhost:8080/"
        }
      },
      "execution_count": 4,
      "outputs": [
        {
          "output_type": "execute_result",
          "data": {
            "text/plain": [
              "array([0.5, 1. , 1.5])"
            ]
          },
          "metadata": {},
          "execution_count": 4
        }
      ]
    },
    {
      "cell_type": "code",
      "source": [],
      "metadata": {
        "id": "uR87MOV6fY5Y"
      },
      "execution_count": null,
      "outputs": []
    }
  ],
  "metadata": {
    "colab": {
      "name": "Welcome To Colab",
      "toc_visible": true,
      "provenance": [],
      "include_colab_link": true
    },
    "kernelspec": {
      "display_name": "Python 3",
      "name": "python3"
    }
  },
  "nbformat": 4,
  "nbformat_minor": 0
}