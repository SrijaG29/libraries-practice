{
  "cells": [
    {
      "cell_type": "markdown",
      "metadata": {
        "id": "view-in-github",
        "colab_type": "text"
      },
      "source": [
        "<a href=\"https://colab.research.google.com/github/SrijaG29/libraries-practice/blob/main/Numpy.ipynb\" target=\"_parent\"><img src=\"https://colab.research.google.com/assets/colab-badge.svg\" alt=\"Open In Colab\"/></a>"
      ]
    },
    {
      "cell_type": "markdown",
      "source": [
        "**Numpy**\n",
        "\n",
        "-> It is a **multidimensional array** library.\n",
        "\n",
        "-> We can use numpy to store all kinds of data."
      ],
      "metadata": {
        "id": "qCiFOhEBoVdr"
      }
    },
    {
      "cell_type": "code",
      "source": [
        "#importing numpy\n",
        "import numpy as np"
      ],
      "metadata": {
        "id": "laxd5RtOgxrB"
      },
      "execution_count": null,
      "outputs": []
    },
    {
      "cell_type": "code",
      "source": [
        "#shapes of an array\n",
        "# a = np.array([1,2,3])\n",
        "# a = np.array([[1,2,3],[4,5,6]],dtype='int32')\n",
        "a = np.array([[[1,2,3],[4,5,6]],[[1,2,3],[1,2,3]]])\n",
        "# print(a.shape)\n",
        "\n",
        "# size of an array\n",
        "print(a.size)\n",
        "\n",
        "# items size means the size based on the datatype size like\n",
        "# int16 = 2 bytes\n",
        "# int32 = 4 bytes\n",
        "# int64 = 8 bytes\n",
        "print(a.itemsize)\n",
        "\n",
        "# to get total size\n",
        "print(a.nbytes)"
      ],
      "metadata": {
        "id": "0-f5RRYlHk7f",
        "outputId": "b11f588b-5c7d-4f3d-b64d-57e9485034e7",
        "colab": {
          "base_uri": "https://localhost:8080/"
        }
      },
      "execution_count": null,
      "outputs": [
        {
          "output_type": "stream",
          "name": "stdout",
          "text": [
            "12\n",
            "8\n",
            "96\n"
          ]
        }
      ]
    },
    {
      "cell_type": "code",
      "source": [
        "#array creation using numpy\n",
        "a = np.array([[1,2,3,4,5,6],[7,8,9,10,11,12]])\n",
        "b = np.array([[[1,2,3],[4,5,6]],[[7,8,9],[10,11,12]]])\n",
        "# print(a)\n",
        "\n",
        "# get specific element (r,c) 1D array\n",
        "# a[1,0]\n",
        "\n",
        "# get sepecific row\n",
        "# a[0,:]\n",
        "\n",
        "# get sepecific column\n",
        "# a[:,0]\n",
        "\n",
        "# a[0][1]\n",
        "\n",
        "# get specific element 2D array\n",
        "# b[1][0][0]\n",
        "\n",
        "# np.identity(3)\n",
        "\n",
        "arr = np.array([[1,2,3,4,5]])\n",
        "c = np.repeat(arr,3,axis=0)\n",
        "print(c)\n"
      ],
      "metadata": {
        "id": "DgkaKOpV3YIa",
        "outputId": "2f236b38-ed31-4f8f-c80b-0d150463f997",
        "colab": {
          "base_uri": "https://localhost:8080/"
        }
      },
      "execution_count": null,
      "outputs": [
        {
          "output_type": "stream",
          "name": "stdout",
          "text": [
            "[[1 2 3 4 5]\n",
            " [1 2 3 4 5]\n",
            " [1 2 3 4 5]]\n"
          ]
        }
      ]
    },
    {
      "cell_type": "code",
      "source": [
        "# f = np.ones((5,5))\n",
        "# print(f)\n",
        "\n",
        "# q = np.zeros((3,3))\n",
        "# q[1,1] = 9\n",
        "# print(q)\n",
        "\n",
        "# f[1:4,1:4] = q\n",
        "\n",
        "# print(f)\n",
        "\n",
        "# np.full((2,3),7) (we can generate matrix of 7 with 2r and 3c)\n",
        "# np.full_like(a,7) (we can generate matrix of 7 with the size of a's matrix)\n",
        "# np.random.rand(2,2) (we can generate matrix of random numbers with 2r and 2c)\n",
        "# np.random.random_sample(a.shape) (we can generate matrix of random numbers with 2r and 2c)\n",
        "# np.identity(3)"
      ],
      "metadata": {
        "id": "V5u6_y6M4Q-u",
        "outputId": "d2f97bd0-f328-4512-8c5b-c91ce42f0b81",
        "colab": {
          "base_uri": "https://localhost:8080/"
        }
      },
      "execution_count": null,
      "outputs": [
        {
          "output_type": "execute_result",
          "data": {
            "text/plain": [
              "array([[0.31902812, 0.20343817, 0.65914742, 0.81643286, 0.98875413,\n",
              "        0.99598072],\n",
              "       [0.95170886, 0.53114195, 0.44048222, 0.94792958, 0.83335502,\n",
              "        0.46074984]])"
            ]
          },
          "metadata": {},
          "execution_count": 11
        }
      ]
    },
    {
      "cell_type": "code",
      "source": [
        "# repeating teh values inside an array\n",
        "a = np.array([1,2,3,4])\n",
        "f = np.repeat(a,2,axis=0)\n",
        "print(f)\n",
        "\n",
        "\n",
        "a = np.array([[1],[2],[3],[4]])\n",
        "f = np.repeat(a,2,axis=1)\n",
        "print(f)"
      ],
      "metadata": {
        "id": "F-z6gz65mBUl",
        "outputId": "986a9747-bb3c-408e-88c3-3ad8c1869e21",
        "colab": {
          "base_uri": "https://localhost:8080/"
        }
      },
      "execution_count": null,
      "outputs": [
        {
          "output_type": "stream",
          "name": "stdout",
          "text": [
            "[[1 1]\n",
            " [2 2]\n",
            " [3 3]\n",
            " [4 4]]\n"
          ]
        }
      ]
    },
    {
      "cell_type": "code",
      "source": [
        "a = np.array([1,2,3],dtype = 'int32')\n",
        "# a + 2\n",
        "# a - 2\n",
        "# a * 2\n",
        "# a / 2\n",
        "# a ** 2 (root's)\n",
        "# np.sin(a)\n",
        "# np.cos(a)"
      ],
      "metadata": {
        "id": "W_N9A4lrfTc6",
        "outputId": "4be00115-9d3b-4141-f36c-5374beba4daa",
        "colab": {
          "base_uri": "https://localhost:8080/"
        }
      },
      "execution_count": null,
      "outputs": [
        {
          "output_type": "execute_result",
          "data": {
            "text/plain": [
              "array([0.5, 1. , 1.5])"
            ]
          },
          "metadata": {},
          "execution_count": 4
        }
      ]
    },
    {
      "cell_type": "code",
      "source": [
        "a = np.array([1,2,3])\n",
        "b = np.array([4,5,6])\n",
        "# a + b\n",
        "# a - b\n",
        "# a * b\n",
        "# a / b\n"
      ],
      "metadata": {
        "id": "uR87MOV6fY5Y",
        "outputId": "4578cba9-a29b-4ca5-da06-8ae8aa404f72",
        "colab": {
          "base_uri": "https://localhost:8080/"
        }
      },
      "execution_count": null,
      "outputs": [
        {
          "output_type": "execute_result",
          "data": {
            "text/plain": [
              "array([ 4, 10, 18])"
            ]
          },
          "metadata": {},
          "execution_count": 4
        }
      ]
    },
    {
      "cell_type": "code",
      "source": [
        "# matrix multiplication\n",
        "a = np.ones((2,3))\n",
        "b = np.full((3,2),2)\n",
        "np.matmul(a,b)"
      ],
      "metadata": {
        "id": "5GrNpVciguDi",
        "outputId": "594938a8-69cc-43d8-b194-1e8f002a7499",
        "colab": {
          "base_uri": "https://localhost:8080/"
        }
      },
      "execution_count": null,
      "outputs": [
        {
          "output_type": "execute_result",
          "data": {
            "text/plain": [
              "array([[6., 6.],\n",
              "       [6., 6.]])"
            ]
          },
          "metadata": {},
          "execution_count": 5
        }
      ]
    },
    {
      "cell_type": "code",
      "source": [
        "# determinent finding of a matrix which is a single numerical value which is used when\n",
        "# calculating the inverse or when solving systems of linear equations\n",
        "\n",
        "c = np.identity(3)\n",
        "np.linalg.det(c)"
      ],
      "metadata": {
        "id": "ngbd2YsijwLC",
        "outputId": "6674d08c-ba18-4c48-fc53-0e979f8d1327",
        "colab": {
          "base_uri": "https://localhost:8080/"
        }
      },
      "execution_count": null,
      "outputs": [
        {
          "output_type": "execute_result",
          "data": {
            "text/plain": [
              "1.0"
            ]
          },
          "metadata": {},
          "execution_count": 6
        }
      ]
    },
    {
      "cell_type": "code",
      "source": [
        "# concatenate\n",
        "a = np.array([[1,2,4],[3,4,5]])\n",
        "b = np.array([[5,6],[7,8]])\n",
        "# print(np.concatenate((a,b),axis=0))\n",
        "# np.ndim(a)\n",
        "# np.shape(a)\n",
        "# np.size(a)\n",
        "\n",
        "# reshape  for reshape we need to have the same number of elements in the previous array\n",
        "# a = np.arange(7)\n",
        "# print(a)\n",
        "\n",
        "c = a.reshape(3,2)\n",
        "c"
      ],
      "metadata": {
        "id": "dMSwsgxlK7E0",
        "outputId": "a058fc7f-9d48-412b-94c5-a0086cb941c0",
        "colab": {
          "base_uri": "https://localhost:8080/"
        }
      },
      "execution_count": null,
      "outputs": [
        {
          "output_type": "execute_result",
          "data": {
            "text/plain": [
              "array([[1, 2],\n",
              "       [4, 3],\n",
              "       [4, 5]])"
            ]
          },
          "metadata": {},
          "execution_count": 30
        }
      ]
    },
    {
      "cell_type": "code",
      "source": [
        "# converting 1d array to 2d array\n",
        "a = np.array([1,2,3,4,5,6,7])\n",
        "# print(a)\n",
        "# np.shape(a)\n",
        "\n",
        "# a1 = a[np.newaxis, :]  row_vector\n",
        "# a1.shape => (1,7)\n",
        "\n",
        "#a1 = a[:,np.newaxis]  #column_vector\n",
        "# a1.shape # => (7,1)"
      ],
      "metadata": {
        "id": "JjN9uAauK8Zu",
        "outputId": "a4979d71-c9e8-462e-e786-12662fb65c64",
        "colab": {
          "base_uri": "https://localhost:8080/"
        }
      },
      "execution_count": null,
      "outputs": [
        {
          "output_type": "execute_result",
          "data": {
            "text/plain": [
              "(7, 1)"
            ]
          },
          "metadata": {},
          "execution_count": 35
        }
      ]
    },
    {
      "cell_type": "code",
      "source": [
        "# indexing and slicing\n",
        "a = np.array([1,2,3,4,5,6,7])\n",
        "# a[1] # 2\n",
        "# a[1:4] # 2,3,4\n",
        "# a[1:] # 2,3,4,5,6,7\n",
        "# a[-2:] # 6,7\n",
        "\n",
        "b = np.nonzero(a < 5)\n",
        "print(b)"
      ],
      "metadata": {
        "id": "kowu291eQcHi",
        "outputId": "d5187540-a90f-4a70-ae48-71c15c9b9b20",
        "colab": {
          "base_uri": "https://localhost:8080/"
        }
      },
      "execution_count": null,
      "outputs": [
        {
          "output_type": "stream",
          "name": "stdout",
          "text": [
            "(array([0, 1, 2, 3]),)\n"
          ]
        }
      ]
    },
    {
      "cell_type": "code",
      "source": [
        "# vstack  it will concatenate 2 array 1 by one like 2 diff rows in one array\n",
        "a = np.array([1,2,3])\n",
        "b = np.array([4,5,6])\n",
        "\n",
        "# print(np.vstack((a,b))) [[1,2,3],[4,5,6]]\n",
        "\n",
        "# hstack it will concatenate 2 array in 1 one array side by side like in 1 row\n",
        "# print(np.hstack((a,b))) #[1,2,3,4,5,6]\n",
        "\n",
        "# rearange\n",
        "\n",
        "# a = np.arange(1,25).reshape(3,8)\n",
        "a = np.arange(1,25).reshape(2,12)\n",
        "# a = np.arange(1,26).reshape(5,5)\n",
        "# a\n",
        "\n",
        "# hsplit it can be used to divide array into equal multiple array's\n",
        "# np.hsplit(a,4)\n",
        "\n",
        "# unique values\n",
        "b = np.array([1,2,3,4,1,2,3,4,7])\n",
        "# np.unique(b)\n",
        "\n",
        "unique_val , index_val = np.unique(b,return_index = True)\n",
        "# print(index_val) # here return_index will only return the val of index if the elemnet is unique\n",
        "#  op 1,2,3,4,7\n",
        "\n",
        "unique_val , occurance_val = np.unique(b,return_counts=True)\n",
        "# print(occurance_val) #here return_count will only return the count of the ele repeated\n",
        "# op 2,2,2,2,1\n",
        "\n",
        "# for 2d array\n",
        "c = np.array([[1,4,3,4],[7,6,7,8],[1,4,3,4]])\n",
        "# np.unique(c)\n",
        "# np.unique(c,return_index=True)\n",
        "unique_row, index_val, occurencane_val = np.unique(c,axis=0,return_index=True,return_counts=True)\n",
        "# print(unique_row)\n",
        "# print(index_val)\n",
        "print(occurance_val)"
      ],
      "metadata": {
        "id": "PhC1le7Re9Cq",
        "outputId": "2defd618-81d5-4214-a3c3-c6cbc07fae4c",
        "colab": {
          "base_uri": "https://localhost:8080/"
        }
      },
      "execution_count": null,
      "outputs": [
        {
          "output_type": "stream",
          "name": "stdout",
          "text": [
            "[[1 4 3 4]\n",
            " [7 6 7 8]]\n",
            "[0 1]\n",
            "[2 2 2 2 1]\n"
          ]
        }
      ]
    },
    {
      "cell_type": "code",
      "source": [
        "#transpose\n",
        "\n",
        "# a = np.array([[1,2,3],[4,5,6],[7,8,9]])\n",
        "# np.transpose(a)\n",
        "\n",
        "# reverse 1D array\n",
        "\n",
        "# a = np.array([1,2,3,4,5,6,7])\n",
        "# b = np.flip(a)\n",
        "# print(b)\n",
        "\n",
        "# Reversing a 2D array\n",
        "a = np.array([[1,2,3],[4,5,6]])\n",
        "# np.flip(a)\n",
        "\n",
        "# reverse only the rows\n",
        "# np.flip(a,axis=0)\n",
        "\n",
        "# reverse only columns\n",
        "# np.flip(a,axis=1)\n",
        "\n",
        "# reverse the contents of the row at index position 1\n",
        "# np.flip(a[1]) #output array([6, 5, 4])\n",
        "\n",
        "# reverse the contents of the column at index 1\n",
        "# np.flip(a[:,1])\n",
        "\n",
        "# flatten\n",
        "a.flatten() #array([1, 2, 3, 4, 5, 6])\n"
      ],
      "metadata": {
        "id": "dNK_JLXDsB26",
        "outputId": "e79a4c13-bd9d-4041-dad3-b1022b9e4ee9",
        "colab": {
          "base_uri": "https://localhost:8080/"
        }
      },
      "execution_count": null,
      "outputs": [
        {
          "output_type": "execute_result",
          "data": {
            "text/plain": [
              "array([1, 2, 3, 4, 5, 6])"
            ]
          },
          "metadata": {},
          "execution_count": 15
        }
      ]
    },
    {
      "cell_type": "code",
      "source": [
        "a = np.array([1,2,3,4,5,6,2,7,7,7])\n",
        "# np.mean(a)\n",
        "np.median(a)"
      ],
      "metadata": {
        "colab": {
          "base_uri": "https://localhost:8080/"
        },
        "id": "UYCvOosmdw1u",
        "outputId": "e2039307-9889-422d-b8ef-a007e3287963"
      },
      "execution_count": null,
      "outputs": [
        {
          "output_type": "execute_result",
          "data": {
            "text/plain": [
              "4.5"
            ]
          },
          "metadata": {},
          "execution_count": 5
        }
      ]
    },
    {
      "cell_type": "markdown",
      "source": [
        "**Numpy problems:**\n",
        "\n",
        "\n",
        "---\n",
        "\n",
        "\n",
        "-> calculate summary statistics.\n",
        "\n",
        "1.   mean, median, mode of totalspend.\n",
        "2.   mean, median, mode of frequency.\n",
        "3.   mean, median, mode of avg spend per visit.\n",
        "\n",
        "     \n",
        "\n"
      ],
      "metadata": {
        "id": "32uw-zpMfrb2"
      }
    },
    {
      "cell_type": "code",
      "source": [
        "np.random.seed(42)\n",
        "customer_data = np.random.rand(100,3) * [1000,50,200]\n",
        "customer_ids = np.arange(1,101).reshape(-1,1)\n",
        "customer_data = np.hstack((customer_ids,customer_data))\n",
        "\n",
        "customer_data"
      ],
      "metadata": {
        "colab": {
          "base_uri": "https://localhost:8080/"
        },
        "id": "zajoyfrNfoVT",
        "outputId": "cebb0413-35b9-44a2-8419-e7ae4f0dc632"
      },
      "execution_count": null,
      "outputs": [
        {
          "output_type": "execute_result",
          "data": {
            "text/plain": [
              "array([[1.00000000e+00, 3.74540119e+02, 4.75357153e+01, 1.46398788e+02],\n",
              "       [2.00000000e+00, 5.98658484e+02, 7.80093202e+00, 3.11989041e+01],\n",
              "       [3.00000000e+00, 5.80836122e+01, 4.33088073e+01, 1.20223002e+02],\n",
              "       [4.00000000e+00, 7.08072578e+02, 1.02922471e+00, 1.93981970e+02],\n",
              "       [5.00000000e+00, 8.32442641e+02, 1.06169555e+01, 3.63649934e+01],\n",
              "       [6.00000000e+00, 1.83404510e+02, 1.52121121e+01, 1.04951286e+02],\n",
              "       [7.00000000e+00, 4.31945019e+02, 1.45614570e+01, 1.22370579e+02],\n",
              "       [8.00000000e+00, 1.39493861e+02, 1.46072324e+01, 7.32723687e+01],\n",
              "       [9.00000000e+00, 4.56069984e+02, 3.92587981e+01, 3.99347564e+01],\n",
              "       [1.00000000e+01, 5.14234438e+02, 2.96207284e+01, 9.29008254e+00],\n",
              "       [1.10000000e+01, 6.07544852e+02, 8.52620618e+00, 1.30103186e+01],\n",
              "       [1.20000000e+01, 9.48885537e+02, 4.82816017e+01, 1.61679470e+02],\n",
              "       [1.30000000e+01, 3.04613769e+02, 4.88360570e+00, 1.36846605e+02],\n",
              "       [1.40000000e+01, 4.40152494e+02, 6.10191174e+00, 9.90353820e+01],\n",
              "       [1.50000000e+01, 3.43885211e+01, 4.54660201e+01, 5.17559963e+01],\n",
              "       [1.60000000e+01, 6.62522284e+02, 1.55855538e+01, 1.04013604e+02],\n",
              "       [1.70000000e+01, 5.46710279e+02, 9.24272278e+00, 1.93916926e+02],\n",
              "       [1.80000000e+01, 7.75132823e+02, 4.69749471e+01, 1.78965470e+02],\n",
              "       [1.90000000e+01, 5.97899979e+02, 4.60937118e+01, 1.76985004e+01],\n",
              "       [2.00000000e+01, 1.95982862e+02, 2.26136445e+00, 6.50660662e+01],\n",
              "       [2.10000000e+01, 3.88677290e+02, 1.35674516e+01, 1.65747502e+02],\n",
              "       [2.20000000e+01, 3.56753327e+02, 1.40467255e+01, 1.08539217e+02],\n",
              "       [2.30000000e+01, 1.40924225e+02, 4.01098490e+01, 1.49101287e+01],\n",
              "       [2.40000000e+01, 9.86886937e+02, 3.86122385e+01, 3.97431363e+01],\n",
              "       [2.50000000e+01, 5.52211712e+00, 4.07730714e+01, 1.41371469e+02],\n",
              "       [2.60000000e+01, 7.29007168e+02, 3.85635173e+01, 1.48089303e+01],\n",
              "       [2.70000000e+01, 3.58465729e+02, 5.79345298e+00, 1.72620685e+02],\n",
              "       [2.80000000e+01, 6.23298127e+02, 1.65449012e+01, 1.27116701e+01],\n",
              "       [2.90000000e+01, 3.10982322e+02, 1.62591661e+01, 1.45921236e+02],\n",
              "       [3.00000000e+01, 6.37557471e+02, 4.43606371e+01, 9.44429850e+01],\n",
              "       [3.10000000e+01, 1.19594246e+02, 3.56622394e+01, 1.52157010e+02],\n",
              "       [3.20000000e+01, 5.61277198e+02, 3.85483590e+01, 9.87591193e+01],\n",
              "       [3.30000000e+01, 5.22732829e+02, 2.13770509e+01, 5.08382535e+00],\n",
              "       [3.40000000e+01, 1.07891427e+02, 1.57145928e+00, 1.27282082e+02],\n",
              "       [3.50000000e+01, 3.14355981e+02, 2.54285346e+01, 1.81513295e+02],\n",
              "       [3.60000000e+01, 2.49292229e+02, 2.05191462e+01, 1.51110228e+02],\n",
              "       [3.70000000e+01, 2.28798165e+02, 3.84899549e+00, 5.79502906e+01],\n",
              "       [3.80000000e+01, 1.61221287e+02, 4.64848826e+01, 1.61624076e+02],\n",
              "       [3.90000000e+01, 6.33403757e+02, 4.35730295e+01, 1.60734415e+02],\n",
              "       [4.00000000e+01, 1.86570059e+02, 4.46279499e+01, 1.07868448e+02],\n",
              "       [4.10000000e+01, 8.07440155e+02, 4.48045650e+01, 6.36006950e+01],\n",
              "       [4.20000000e+01, 1.10051925e+02, 1.13967581e+01, 8.54215577e+01],\n",
              "       [4.30000000e+01, 8.18014766e+02, 4.30365292e+01, 1.39042611e+00],\n",
              "       [4.40000000e+01, 5.10747303e+02, 2.08705502e+01, 4.44215621e+01],\n",
              "       [4.50000000e+01, 1.19865367e+02, 1.68807586e+01, 1.88581941e+02],\n",
              "       [4.60000000e+01, 3.23202932e+02, 2.59395311e+01, 1.40603792e+02],\n",
              "       [4.70000000e+01, 3.63629602e+02, 4.85891041e+01, 1.92489459e+02],\n",
              "       [4.80000000e+01, 2.51782296e+02, 2.48624253e+01, 6.01756620e+01],\n",
              "       [4.90000000e+01, 2.84840494e+02, 1.84434737e+00, 1.21912867e+02],\n",
              "       [5.00000000e+01, 5.02679023e+02, 2.57393756e+00, 5.57292928e+01],\n",
              "       [5.10000000e+01, 9.08265886e+02, 1.19780945e+01, 2.89789744e+01],\n",
              "       [5.20000000e+01, 4.89452760e+02, 4.92825227e+01, 4.84110543e+01],\n",
              "       [5.30000000e+01, 6.72135547e+02, 3.80809808e+01, 4.75275088e+01],\n",
              "       [5.40000000e+01, 7.28216349e+02, 1.83891566e+01, 1.26461166e+02],\n",
              "       [5.50000000e+01, 6.33529711e+02, 2.67887342e+01, 1.80579540e+01],\n",
              "       [5.60000000e+01, 8.35302496e+02, 1.60390032e+01, 3.73037021e+01],\n",
              "       [5.70000000e+01, 4.07751416e+01, 2.95446472e+01, 1.35512872e+02],\n",
              "       [5.80000000e+01, 1.65878289e+01, 2.56046529e+01, 4.52991550e+01],\n",
              "       [5.90000000e+01, 6.45172790e+02, 8.71832145e+00, 1.38187548e+02],\n",
              "       [6.00000000e+01, 3.86735346e+02, 4.68364994e+01, 2.75041888e+01],\n",
              "       [6.10000000e+01, 3.41066351e+02, 5.67367606e+00, 1.84938724e+02],\n",
              "       [6.20000000e+01, 8.77339353e+02, 1.28970814e+01, 1.31996809e+02],\n",
              "       [6.30000000e+01, 8.17222200e+02, 2.77600406e+01, 1.05930116e+02],\n",
              "       [6.40000000e+01, 2.41852291e+02, 4.65513839e+00, 1.79443152e+02],\n",
              "       [6.50000000e+01, 9.00418057e+02, 3.16550729e+01, 6.78059582e+01],\n",
              "       [6.60000000e+01, 3.49209575e+02, 3.62977839e+01, 1.79422052e+02],\n",
              "       [6.70000000e+01, 8.87086424e+02, 3.89937773e+01, 1.28406329e+02],\n",
              "       [6.80000000e+01, 8.41399650e+01, 8.08143570e+00, 1.79710838e+02],\n",
              "       [6.90000000e+01, 6.06429060e+02, 4.59852581e-01, 2.02943086e+01],\n",
              "       [7.00000000e+01, 6.63501769e+02, 2.53079192e-01, 3.21616103e+01],\n",
              "       [7.10000000e+01, 5.48733789e+02, 3.45947599e+01, 1.30392252e+02],\n",
              "       [7.20000000e+01, 2.24269309e+02, 3.56089611e+01, 4.74498175e+01],\n",
              "       [7.30000000e+01, 3.25399698e+02, 3.73245703e+01, 1.29926580e+02],\n",
              "       [7.40000000e+01, 8.49223410e+02, 3.28806446e+01, 1.13661721e+02],\n",
              "       [7.50000000e+01, 9.36747678e+01, 1.83857902e+01, 5.30404735e+01],\n",
              "       [7.60000000e+01, 2.43989643e+02, 4.86505277e+01, 7.86195449e+01],\n",
              "       [7.70000000e+01, 8.92046555e+02, 3.15569313e+01, 1.58962261e+02],\n",
              "       [7.80000000e+01, 5.02637093e+02, 2.88451942e+01, 9.85035388e+01],\n",
              "       [7.90000000e+01, 1.95242988e+02, 3.61226058e+01, 5.61544725e+01],\n",
              "       [8.00000000e+01, 2.43159664e+01, 3.22736148e+01, 3.54221359e+01],\n",
              "       [8.10000000e+01, 9.40458584e+02, 4.76964289e+01, 1.82972878e+02],\n",
              "       [8.20000000e+01, 3.70158700e+02, 7.72830826e-01, 1.85663713e+02],\n",
              "       [8.30000000e+01, 4.28184148e+02, 4.83327410e+01, 1.92723995e+02],\n",
              "       [8.40000000e+01, 8.53009455e+02, 1.47224446e+01, 7.70195457e+01],\n",
              "       [8.50000000e+01, 8.51136672e+02, 1.58461003e+01, 3.38985493e+01],\n",
              "       [8.60000000e+01, 5.56801262e+02, 4.68077387e+01, 1.39205959e+02],\n",
              "       [8.70000000e+01, 5.70061170e+02, 4.85882469e+00, 1.23001445e+02],\n",
              "       [8.80000000e+01, 9.90053850e+02, 7.00420076e+00, 1.03665930e+02],\n",
              "       [8.90000000e+01, 8.77373072e+02, 3.70384309e+01, 1.39403148e+02],\n",
              "       [9.00000000e+01, 7.02484084e+02, 1.79745576e+01, 5.87183689e+01],\n",
              "       [9.10000000e+01, 8.09361155e+02, 4.05056697e+01, 1.73414464e+02],\n",
              "       [9.20000000e+01, 9.13240553e+02, 2.55671199e+01, 1.00303259e+02],\n",
              "       [9.30000000e+01, 7.98295179e+02, 3.24981965e+01, 1.40393375e+02],\n",
              "       [9.40000000e+01, 7.95792669e+02, 4.45002671e+01, 6.75990314e+01],\n",
              "       [9.50000000e+01, 3.75582953e+02, 4.69909699e+00, 1.15656028e+02],\n",
              "       [9.60000000e+01, 3.59422738e+01, 2.32799009e+01, 1.08528927e+02],\n",
              "       [9.70000000e+01, 2.86541252e+02, 2.95416630e+01, 6.10004999e+00],\n",
              "       [9.80000000e+01, 3.73481887e+01, 4.11300280e+01, 7.20381283e+01],\n",
              "       [9.90000000e+01, 1.27060513e+02, 2.61121630e+01, 1.53998711e+02],\n",
              "       [1.00000000e+02, 2.15821027e+02, 3.11445238e+01, 1.70694930e+01]])"
            ]
          },
          "metadata": {},
          "execution_count": 7
        }
      ]
    },
    {
      "cell_type": "code",
      "source": [
        "totalspend = customer_data[:,1]\n",
        "# totalspend\n",
        "print('mean:',np.mean(totalspend))\n",
        "print('median:',np.median(totalspend))\n",
        "unique_val , occurance_val = np.unique(totalspend,return_counts=True)\n",
        "# print(occurance_val)\n",
        "max_occurance = np.max(occurance_val)\n",
        "max_occurance_idx = np.where(occurance_val == max_occurance)[0][0]\n",
        "mode = unique_val[max_occurance_idx]\n",
        "print('mode: ',mode)"
      ],
      "metadata": {
        "colab": {
          "base_uri": "https://localhost:8080/"
        },
        "id": "yIL_dURhgrpI",
        "outputId": "366b4a3a-a1f2-4868-ecfb-76c1452debd4"
      },
      "execution_count": null,
      "outputs": [
        {
          "output_type": "stream",
          "name": "stdout",
          "text": [
            "mean: 476.8492328495082\n",
            "median: 472.7613722472995\n",
            "mode:  5.522117123602399\n"
          ]
        }
      ]
    },
    {
      "cell_type": "code",
      "source": [
        "freq_of_purchase = customer_data[:,2]\n",
        "print('mean: ',np.mean(freq_of_purchase))\n",
        "print('median: ',np.median(freq_of_purchase))\n",
        "unique_val , occurance_val = np.unique(freq_of_purchase,return_counts=True)\n",
        "max_occurance = np.max(occurance_val)\n",
        "max_occurance_idx = np.where(occurance_val == max_occurance)[0][0]\n",
        "mode = unique_val[max_occurance_idx]\n",
        "print('mode: ',mode)"
      ],
      "metadata": {
        "colab": {
          "base_uri": "https://localhost:8080/"
        },
        "id": "6GNclTdGjkpq",
        "outputId": "0f7241e5-83fb-4547-a63e-116acf0e75aa"
      },
      "execution_count": null,
      "outputs": [
        {
          "output_type": "stream",
          "name": "stdout",
          "text": [
            "mean:  25.623068502866545\n",
            "median:  26.02584704495426\n",
            "mode:  0.25307919231093434\n"
          ]
        }
      ]
    },
    {
      "cell_type": "code",
      "source": [
        "avg_spend = customer_data[:,3]\n",
        "print('mean: ',np.mean(avg_spend))\n",
        "print('median: ',np.median(avg_spend))\n",
        "unique_val , occurance_val = np.unique(avg_spend,return_counts=True)\n",
        "max_occurance = np.max(occurance_val)\n",
        "max_occurance_idx = np.where(occurance_val == max_occurance)[0][0]\n",
        "mode = unique_val[max_occurance_idx]\n",
        "print('mode: ',mode)"
      ],
      "metadata": {
        "colab": {
          "base_uri": "https://localhost:8080/"
        },
        "id": "kR2rkmQWj36k",
        "outputId": "eebedfb4-08ed-475f-e52c-a252bac8b152"
      },
      "execution_count": null,
      "outputs": [
        {
          "output_type": "stream",
          "name": "stdout",
          "text": [
            "mean:  99.26063887472752\n",
            "median:  104.48244528100486\n",
            "mode:  1.3904261062381407\n"
          ]
        }
      ]
    },
    {
      "cell_type": "markdown",
      "source": [
        "**Movie Recommendations**\n",
        "\n",
        "\n",
        "---\n",
        "\n",
        "\n",
        "-> you have a dataset of user ratings for different movies.\n",
        "\n",
        "\n",
        "1.   Load and preprocess the data.\n",
        "2.   Calculate teh average rating for each movie.\n",
        "3.   Identify teh top N movies by average rating.\n",
        "4.   Calculate similarity between users based on their ratings.\n",
        "\n",
        "\n",
        "\n"
      ],
      "metadata": {
        "id": "Xul8dnmWkbrK"
      }
    },
    {
      "cell_type": "code",
      "source": [
        "np.random.seed(42)\n",
        "user_ids = np.random.randint(1,21,100)\n",
        "movie_ids = np.random.randint(1,51,100)\n",
        "ratings = np.random.randint(1,6,100)\n",
        "ratings_data = np.column_stack((user_ids,movie_ids,ratings))\n",
        "ratings_data\n"
      ],
      "metadata": {
        "colab": {
          "base_uri": "https://localhost:8080/"
        },
        "id": "KDuP_k6GloXC",
        "outputId": "199363fa-b20f-47d5-cc24-23f0578cb2b2"
      },
      "execution_count": null,
      "outputs": [
        {
          "output_type": "execute_result",
          "data": {
            "text/plain": [
              "array([[ 7, 35,  2],\n",
              "       [20, 44,  4],\n",
              "       [15, 40,  3],\n",
              "       [11, 22,  3],\n",
              "       [ 8, 27,  1],\n",
              "       [ 7, 35,  5],\n",
              "       [19,  1,  4],\n",
              "       [11, 35,  2],\n",
              "       [11, 37,  3],\n",
              "       [ 4, 47,  1],\n",
              "       [ 8, 14,  1],\n",
              "       [ 3,  3,  4],\n",
              "       [ 2,  1,  3],\n",
              "       [12,  5,  5],\n",
              "       [ 6, 26,  3],\n",
              "       [ 2, 14,  4],\n",
              "       [ 1, 39,  4],\n",
              "       [12, 27,  3],\n",
              "       [12,  9,  4],\n",
              "       [17, 15,  3],\n",
              "       [10, 15,  2],\n",
              "       [16, 26,  3],\n",
              "       [15, 42,  3],\n",
              "       [15, 13,  4],\n",
              "       [19, 32,  4],\n",
              "       [12, 39,  1],\n",
              "       [20, 49,  1],\n",
              "       [ 3, 32,  2],\n",
              "       [ 5,  4,  1],\n",
              "       [19, 30,  3],\n",
              "       [ 7, 37,  4],\n",
              "       [ 9, 23,  1],\n",
              "       [ 7, 39,  1],\n",
              "       [18, 45,  2],\n",
              "       [ 4, 15,  2],\n",
              "       [14, 43,  3],\n",
              "       [18, 29,  4],\n",
              "       [ 9, 36,  2],\n",
              "       [ 2, 13,  1],\n",
              "       [20, 32,  4],\n",
              "       [15,  7,  4],\n",
              "       [ 7, 22,  1],\n",
              "       [12, 28,  2],\n",
              "       [ 8,  2,  1],\n",
              "       [15, 42,  4],\n",
              "       [ 3, 45,  5],\n",
              "       [14,  6,  5],\n",
              "       [17, 28,  3],\n",
              "       [ 4, 28,  1],\n",
              "       [18, 44,  1],\n",
              "       [ 8, 44,  3],\n",
              "       [ 4, 20,  3],\n",
              "       [ 2, 30,  3],\n",
              "       [ 6, 11,  4],\n",
              "       [10, 28,  1],\n",
              "       [ 4, 25,  4],\n",
              "       [18, 39,  3],\n",
              "       [12, 33,  1],\n",
              "       [ 2,  1,  4],\n",
              "       [10, 27,  4],\n",
              "       [ 4, 13,  3],\n",
              "       [14, 41,  1],\n",
              "       [16,  3,  3],\n",
              "       [15, 39,  1],\n",
              "       [ 8,  6,  5],\n",
              "       [14,  8,  2],\n",
              "       [ 8, 27,  2],\n",
              "       [16,  9,  2],\n",
              "       [13, 37,  3],\n",
              "       [18, 33,  5],\n",
              "       [15, 42,  1],\n",
              "       [13, 44,  4],\n",
              "       [ 9, 24,  1],\n",
              "       [15, 15,  4],\n",
              "       [13, 32,  1],\n",
              "       [ 1, 32,  5],\n",
              "       [ 7, 24,  4],\n",
              "       [ 9, 41,  3],\n",
              "       [ 1, 49,  1],\n",
              "       [12, 49,  1],\n",
              "       [ 8, 12,  4],\n",
              "       [11, 39,  3],\n",
              "       [19,  2,  3],\n",
              "       [17,  3,  5],\n",
              "       [ 8, 49,  3],\n",
              "       [ 3, 37,  3],\n",
              "       [ 3, 49,  3],\n",
              "       [ 1, 17,  2],\n",
              "       [ 5, 49,  5],\n",
              "       [10,  2,  1],\n",
              "       [ 7,  2,  4],\n",
              "       [ 9, 28,  1],\n",
              "       [ 7, 23,  5],\n",
              "       [ 9, 37,  4],\n",
              "       [ 8, 32,  5],\n",
              "       [12, 33,  3],\n",
              "       [ 2,  1,  4],\n",
              "       [ 1, 19,  3],\n",
              "       [16,  2,  1],\n",
              "       [ 5, 44,  1]])"
            ]
          },
          "metadata": {},
          "execution_count": 31
        }
      ]
    },
    {
      "cell_type": "code",
      "source": [
        "d = {}\n",
        "for movie_vals in ratings_data:\n",
        "  if movie_vals[1] not in d:\n",
        "    d[movie_vals[1]] = movie_vals[2]\n",
        "  else :\n",
        "    d[movie_vals[1]] = (d[movie_vals[1]] + movie_vals[2]) / 2\n",
        "for i in d:\n",
        "  print(i,' ',d[i])\n"
      ],
      "metadata": {
        "colab": {
          "base_uri": "https://localhost:8080/"
        },
        "id": "5k5hO044mvOY",
        "outputId": "5d561c3e-e0b8-4f3a-d962-c3f323f66ae3"
      },
      "execution_count": null,
      "outputs": [
        {
          "output_type": "stream",
          "name": "stdout",
          "text": [
            "35   2.75\n",
            "44   2.1875\n",
            "40   3\n",
            "22   2.0\n",
            "27   2.5\n",
            "1   3.875\n",
            "37   3.5625\n",
            "47   1\n",
            "14   2.5\n",
            "3   4.25\n",
            "5   5\n",
            "26   3.0\n",
            "39   2.34375\n",
            "9   3.0\n",
            "15   3.125\n",
            "42   2.25\n",
            "13   2.75\n",
            "32   4.3125\n",
            "49   3.75\n",
            "4   1\n",
            "30   3.0\n",
            "23   3.0\n",
            "45   3.5\n",
            "43   3\n",
            "29   4\n",
            "36   2\n",
            "7   4\n",
            "28   1.1875\n",
            "2   1.875\n",
            "6   5.0\n",
            "20   3\n",
            "11   4\n",
            "25   4\n",
            "33   3.0\n",
            "41   2.0\n",
            "8   2\n",
            "24   2.5\n",
            "12   4\n",
            "17   2\n",
            "19   3\n"
          ]
        }
      ]
    },
    {
      "cell_type": "code",
      "source": [
        "# np.argsort(d,axis=-1,kind=None,order=None)\n",
        "movie_id = list(d.keys())\n",
        "# print(movie_id)\n",
        "ratings = list(d.values())\n",
        "# print(ratings)\n",
        "sort_idx = np.argsort(ratings)\n",
        "# print(sort_idx)\n",
        "idx = -1\n",
        "for i in range(5):\n",
        "  print('movie_id:',movie_id[sort_idx[idx]],',','movie_raring:',ratings[sort_idx[idx]])\n",
        "  sort_idx-=1\n",
        "\n",
        "\n"
      ],
      "metadata": {
        "colab": {
          "base_uri": "https://localhost:8080/"
        },
        "id": "71wZH6U0sV0f",
        "outputId": "48026727-0564-498d-a37a-0d41441a76cb"
      },
      "execution_count": null,
      "outputs": [
        {
          "output_type": "stream",
          "name": "stdout",
          "text": [
            "movie_id: 6 , movie_raring: 5.0\n",
            "movie_id: 2 , movie_raring: 1.875\n",
            "movie_id: 28 , movie_raring: 1.1875\n",
            "movie_id: 7 , movie_raring: 4\n",
            "movie_id: 36 , movie_raring: 2\n"
          ]
        }
      ]
    }
  ],
  "metadata": {
    "colab": {
      "name": "Welcome To Colab",
      "toc_visible": true,
      "provenance": [],
      "include_colab_link": true
    },
    "kernelspec": {
      "display_name": "Python 3",
      "name": "python3"
    }
  },
  "nbformat": 4,
  "nbformat_minor": 0
}