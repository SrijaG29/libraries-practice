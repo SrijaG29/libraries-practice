{
  "cells": [
    {
      "cell_type": "markdown",
      "metadata": {
        "id": "view-in-github",
        "colab_type": "text"
      },
      "source": [
        "<a href=\"https://colab.research.google.com/github/SrijaG29/libraries-practice/blob/main/Welcome_To_Colab.ipynb\" target=\"_parent\"><img src=\"https://colab.research.google.com/assets/colab-badge.svg\" alt=\"Open In Colab\"/></a>"
      ]
    },
    {
      "cell_type": "code",
      "source": [
        "#importing numpy\n",
        "import numpy as np"
      ],
      "metadata": {
        "id": "laxd5RtOgxrB"
      },
      "execution_count": null,
      "outputs": []
    },
    {
      "cell_type": "code",
      "source": [
        "#shapes of an array\n",
        "# a = np.array([1,2,3])\n",
        "# a = np.array([[1,2,3],[4,5,6]],dtype='int32')\n",
        "a = np.array([[[1,2,3],[4,5,6]],[[1,2,3],[1,2,3]]])\n",
        "# print(a.shape)\n",
        "\n",
        "# size of an array\n",
        "print(a.size)\n",
        "\n",
        "# items size means the size based on the datatype size like\n",
        "# int16 = 2 bytes\n",
        "# int32 = 4 bytes\n",
        "# int64 = 8 bytes\n",
        "print(a.itemsize)\n",
        "\n",
        "# to get total size\n",
        "print(a.nbytes)"
      ],
      "metadata": {
        "colab": {
          "base_uri": "https://localhost:8080/"
        },
        "id": "0-f5RRYlHk7f",
        "outputId": "b11f588b-5c7d-4f3d-b64d-57e9485034e7"
      },
      "execution_count": null,
      "outputs": [
        {
          "output_type": "stream",
          "name": "stdout",
          "text": [
            "12\n",
            "8\n",
            "96\n"
          ]
        }
      ]
    },
    {
      "cell_type": "code",
      "source": [
        "#array creation using numpy\n",
        "a = np.array([[1,2,3,4,5,6],[7,8,9,10,11,12]])\n",
        "b = np.array([[[1,2,3],[4,5,6]],[[7,8,9],[10,11,12]]])\n",
        "# print(a)\n",
        "\n",
        "# get specific element (r,c) 1D array\n",
        "# a[1,0]\n",
        "\n",
        "# get sepecific row\n",
        "# a[0,:]\n",
        "\n",
        "# get sepecific column\n",
        "# a[:,0]\n",
        "\n",
        "# a[0][1]\n",
        "\n",
        "# get specific element 2D array\n",
        "# b[1][0][0]\n",
        "\n",
        "# np.identity(3)\n",
        "\n",
        "arr = np.array([[1,2,3,4,5]])\n",
        "c = np.repeat(arr,3,axis=0)\n",
        "print(c)\n"
      ],
      "metadata": {
        "id": "DgkaKOpV3YIa",
        "outputId": "2f236b38-ed31-4f8f-c80b-0d150463f997",
        "colab": {
          "base_uri": "https://localhost:8080/"
        }
      },
      "execution_count": null,
      "outputs": [
        {
          "output_type": "stream",
          "name": "stdout",
          "text": [
            "[[1 2 3 4 5]\n",
            " [1 2 3 4 5]\n",
            " [1 2 3 4 5]]\n"
          ]
        }
      ]
    },
    {
      "cell_type": "code",
      "source": [
        "# f = np.ones((5,5))\n",
        "# print(f)\n",
        "\n",
        "# q = np.zeros((3,3))\n",
        "# q[1,1] = 9\n",
        "# print(q)\n",
        "\n",
        "# f[1:4,1:4] = q\n",
        "\n",
        "# print(f)\n",
        "\n",
        "# np.full((2,3),7) (we can generate matrix of 7 with 2r and 3c)\n",
        "# np.full_like(a,7) (we can generate matrix of 7 with the size of a's matrix)\n",
        "# np.random.rand(2,2) (we can generate matrix of random numbers with 2r and 2c)\n",
        "# np.random.random_sample(a.shape) (we can generate matrix of random numbers with 2r and 2c)\n",
        "# np.identity(3)"
      ],
      "metadata": {
        "id": "V5u6_y6M4Q-u",
        "outputId": "d2f97bd0-f328-4512-8c5b-c91ce42f0b81",
        "colab": {
          "base_uri": "https://localhost:8080/"
        }
      },
      "execution_count": null,
      "outputs": [
        {
          "output_type": "execute_result",
          "data": {
            "text/plain": [
              "array([[0.31902812, 0.20343817, 0.65914742, 0.81643286, 0.98875413,\n",
              "        0.99598072],\n",
              "       [0.95170886, 0.53114195, 0.44048222, 0.94792958, 0.83335502,\n",
              "        0.46074984]])"
            ]
          },
          "metadata": {},
          "execution_count": 11
        }
      ]
    },
    {
      "cell_type": "code",
      "source": [
        "# repeating teh values inside an array\n",
        "a = np.array([1,2,3,4])\n",
        "f = np.repeat(a,2,axis=0)\n",
        "print(f)\n",
        "\n",
        "\n",
        "a = np.array([[1],[2],[3],[4]])\n",
        "f = np.repeat(a,2,axis=1)\n",
        "print(f)"
      ],
      "metadata": {
        "id": "F-z6gz65mBUl",
        "outputId": "986a9747-bb3c-408e-88c3-3ad8c1869e21",
        "colab": {
          "base_uri": "https://localhost:8080/"
        }
      },
      "execution_count": null,
      "outputs": [
        {
          "output_type": "stream",
          "name": "stdout",
          "text": [
            "[[1 1]\n",
            " [2 2]\n",
            " [3 3]\n",
            " [4 4]]\n"
          ]
        }
      ]
    },
    {
      "cell_type": "code",
      "source": [
        "a = np.array([1,2,3],dtype = 'int32')\n",
        "# a + 2\n",
        "# a - 2\n",
        "# a * 2\n",
        "# a / 2\n",
        "# a ** 2 (root's)\n",
        "# np.sin(a)\n",
        "# np.cos(a)"
      ],
      "metadata": {
        "id": "W_N9A4lrfTc6",
        "outputId": "4be00115-9d3b-4141-f36c-5374beba4daa",
        "colab": {
          "base_uri": "https://localhost:8080/"
        }
      },
      "execution_count": null,
      "outputs": [
        {
          "output_type": "execute_result",
          "data": {
            "text/plain": [
              "array([0.5, 1. , 1.5])"
            ]
          },
          "metadata": {},
          "execution_count": 4
        }
      ]
    },
    {
      "cell_type": "code",
      "source": [
        "a = np.array([1,2,3])\n",
        "b = np.array([4,5,6])\n",
        "# a + b\n",
        "# a - b\n",
        "# a * b\n",
        "# a / b\n"
      ],
      "metadata": {
        "id": "uR87MOV6fY5Y",
        "outputId": "4578cba9-a29b-4ca5-da06-8ae8aa404f72",
        "colab": {
          "base_uri": "https://localhost:8080/"
        }
      },
      "execution_count": null,
      "outputs": [
        {
          "output_type": "execute_result",
          "data": {
            "text/plain": [
              "array([ 4, 10, 18])"
            ]
          },
          "metadata": {},
          "execution_count": 4
        }
      ]
    },
    {
      "cell_type": "code",
      "source": [
        "# matrix multiplication\n",
        "a = np.ones((2,3))\n",
        "b = np.full((3,2),2)\n",
        "np.matmul(a,b)"
      ],
      "metadata": {
        "id": "5GrNpVciguDi",
        "outputId": "594938a8-69cc-43d8-b194-1e8f002a7499",
        "colab": {
          "base_uri": "https://localhost:8080/"
        }
      },
      "execution_count": null,
      "outputs": [
        {
          "output_type": "execute_result",
          "data": {
            "text/plain": [
              "array([[6., 6.],\n",
              "       [6., 6.]])"
            ]
          },
          "metadata": {},
          "execution_count": 5
        }
      ]
    },
    {
      "cell_type": "code",
      "source": [
        "# determinent finding of a matrix which is a single numerical value which is used when\n",
        "# calculating the inverse or when solving systems of linear equations\n",
        "\n",
        "c = np.identity(3)\n",
        "np.linalg.det(c)"
      ],
      "metadata": {
        "id": "ngbd2YsijwLC",
        "outputId": "6674d08c-ba18-4c48-fc53-0e979f8d1327",
        "colab": {
          "base_uri": "https://localhost:8080/"
        }
      },
      "execution_count": null,
      "outputs": [
        {
          "output_type": "execute_result",
          "data": {
            "text/plain": [
              "1.0"
            ]
          },
          "metadata": {},
          "execution_count": 6
        }
      ]
    },
    {
      "cell_type": "code",
      "source": [
        "# concatenate\n",
        "a = np.array([[1,2,4],[3,4,5]])\n",
        "b = np.array([[5,6],[7,8]])\n",
        "# print(np.concatenate((a,b),axis=0))\n",
        "# np.ndim(a)\n",
        "# np.shape(a)\n",
        "# np.size(a)\n",
        "\n",
        "# reshape  for reshape we need to have the same number of elements in the previous array\n",
        "# a = np.arange(7)\n",
        "# print(a)\n",
        "\n",
        "c = a.reshape(3,2)\n",
        "c"
      ],
      "metadata": {
        "colab": {
          "base_uri": "https://localhost:8080/"
        },
        "id": "dMSwsgxlK7E0",
        "outputId": "a058fc7f-9d48-412b-94c5-a0086cb941c0"
      },
      "execution_count": null,
      "outputs": [
        {
          "output_type": "execute_result",
          "data": {
            "text/plain": [
              "array([[1, 2],\n",
              "       [4, 3],\n",
              "       [4, 5]])"
            ]
          },
          "metadata": {},
          "execution_count": 30
        }
      ]
    },
    {
      "cell_type": "code",
      "source": [
        "# converting 1d array to 2d array\n",
        "a = np.array([1,2,3,4,5,6,7])\n",
        "# print(a)\n",
        "# np.shape(a)\n",
        "\n",
        "# a1 = a[np.newaxis, :]  row_vector\n",
        "# a1.shape => (1,7)\n",
        "\n",
        "#a1 = a[:,np.newaxis]  #column_vector\n",
        "# a1.shape # => (7,1)"
      ],
      "metadata": {
        "colab": {
          "base_uri": "https://localhost:8080/"
        },
        "id": "JjN9uAauK8Zu",
        "outputId": "a4979d71-c9e8-462e-e786-12662fb65c64"
      },
      "execution_count": null,
      "outputs": [
        {
          "output_type": "execute_result",
          "data": {
            "text/plain": [
              "(7, 1)"
            ]
          },
          "metadata": {},
          "execution_count": 35
        }
      ]
    },
    {
      "cell_type": "code",
      "source": [
        "# indexing and slicing\n",
        "a = np.array([1,2,3,4,5,6,7])\n",
        "# a[1] # 2\n",
        "# a[1:4] # 2,3,4\n",
        "# a[1:] # 2,3,4,5,6,7\n",
        "# a[-2:] # 6,7\n",
        "\n",
        "b = np.nonzero(a < 5)\n",
        "print(b)"
      ],
      "metadata": {
        "colab": {
          "base_uri": "https://localhost:8080/"
        },
        "id": "kowu291eQcHi",
        "outputId": "d5187540-a90f-4a70-ae48-71c15c9b9b20"
      },
      "execution_count": null,
      "outputs": [
        {
          "output_type": "stream",
          "name": "stdout",
          "text": [
            "(array([0, 1, 2, 3]),)\n"
          ]
        }
      ]
    },
    {
      "cell_type": "code",
      "source": [
        "# vstack  it will concatenate 2 array 1 by one like 2 diff rows in one array\n",
        "a = np.array([1,2,3])\n",
        "b = np.array([4,5,6])\n",
        "\n",
        "# print(np.vstack((a,b))) [[1,2,3],[4,5,6]]\n",
        "\n",
        "# hstack it will concatenate 2 array in 1 one array side by side like in 1 row\n",
        "# print(np.hstack((a,b))) #[1,2,3,4,5,6]\n",
        "\n",
        "# rearange\n",
        "\n",
        "# a = np.arange(1,25).reshape(3,8)\n",
        "a = np.arange(1,25).reshape(2,12)\n",
        "# a = np.arange(1,26).reshape(5,5)\n",
        "# a\n",
        "\n",
        "# hsplit it can be used to divide array into equal multiple array's\n",
        "# np.hsplit(a,4)\n",
        "\n",
        "# unique values\n",
        "b = np.array([1,2,3,4,1,2,3,4,7])\n",
        "# np.unique(b)\n",
        "\n",
        "unique_val , index_val = np.unique(b,return_index = True)\n",
        "# print(index_val) # here return_index will only return the val of index if the elemnet is unique\n",
        "#  op 1,2,3,4,7\n",
        "\n",
        "unique_val , occurance_val = np.unique(b,return_counts=True)\n",
        "# print(occurance_val) #here return_count will only return the count of the ele repeated\n",
        "# op 2,2,2,2,1\n",
        "\n",
        "# for 2d array\n",
        "c = np.array([[1,2,3,4],[5,6,7,8]])\n",
        "np.unique(c,return_index=True)"
      ],
      "metadata": {
        "colab": {
          "base_uri": "https://localhost:8080/"
        },
        "id": "PhC1le7Re9Cq",
        "outputId": "bb2aaf5e-783b-41e6-9bb7-caa02ee91fcd"
      },
      "execution_count": null,
      "outputs": [
        {
          "output_type": "execute_result",
          "data": {
            "text/plain": [
              "(array([1, 2, 3, 4, 5, 6, 7, 8]), array([0, 1, 2, 3, 4, 5, 6, 7]))"
            ]
          },
          "metadata": {},
          "execution_count": 66
        }
      ]
    }
  ],
  "metadata": {
    "colab": {
      "name": "Welcome To Colab",
      "toc_visible": true,
      "provenance": [],
      "include_colab_link": true
    },
    "kernelspec": {
      "display_name": "Python 3",
      "name": "python3"
    }
  },
  "nbformat": 4,
  "nbformat_minor": 0
}